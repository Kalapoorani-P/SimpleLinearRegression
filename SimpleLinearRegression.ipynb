{
 "cells": [
  {
   "cell_type": "markdown",
   "metadata": {},
   "source": [
    "<h3>Simple Linear Regression </h3>"
   ]
  },
  {
   "cell_type": "markdown",
   "metadata": {},
   "source": [
    "<p> The code in this notebook is implementing a simple linear regression model using PyTorch and Numpy with a dataset generated using the NumPy module.</p>"
   ]
  },
  {
   "cell_type": "code",
   "execution_count": 10,
   "metadata": {},
   "outputs": [],
   "source": [
    "# importing the neccessary packages \n",
    "import numpy as np \n",
    "import torch \n",
    "from torch.utils.data import DataLoader \n",
    "import matplotlib.pyplot as plt "
   ]
  },
  {
   "cell_type": "markdown",
   "metadata": {},
   "source": [
    "<p>Implementing Linear Model in Numpy </p>"
   ]
  },
  {
   "cell_type": "code",
   "execution_count": 8,
   "metadata": {},
   "outputs": [
    {
     "name": "stdout",
     "output_type": "stream",
     "text": [
      "X : 0.9812 : Y : 9.812\n",
      "SHAPE OF TRAIN INPUT :  (10000,)\n",
      "SHAPE OF TRAIN OUTPUT :  (10000,)\n"
     ]
    }
   ],
   "source": [
    "# Implementing Linear Model in Numpy \n",
    "# 1. GENERATE THE DATATSET \n",
    "# I am going to generate a datatset in which X(train_input) contains random numbers and Y(train_output) is 10 times of X \n",
    "def get_train_data(num_of_data = 10000):\n",
    "    X = np.arange(0,num_of_data)\n",
    "    np.random.shuffle(X)\n",
    "    #Normalizing the input in the range of 0 to 1 \n",
    "    X = X / num_of_data\n",
    "    Y = X * 10 \n",
    "    return X,Y\n",
    "\n",
    "train_input,train_output = get_train_data()\n",
    "print(\"X : {} : Y : {}\".format(train_input[0],train_output[0]))\n",
    "print(\"SHAPE OF TRAIN INPUT : \",(train_input).shape)\n",
    "print(\"SHAPE OF TRAIN OUTPUT : \",(train_output).shape)\n"
   ]
  },
  {
   "cell_type": "code",
   "execution_count": 11,
   "metadata": {},
   "outputs": [
    {
     "data": {
      "text/plain": [
       "[<matplotlib.lines.Line2D at 0x7fb80c1ab280>]"
      ]
     },
     "execution_count": 11,
     "metadata": {},
     "output_type": "execute_result"
    },
    {
     "data": {
      "image/png": "[encoded data removed]",
      "text/plain": [
       "<Figure size 640x480 with 1 Axes>"
      ]
     },
     "metadata": {},
     "output_type": "display_data"
    }
   ],
   "source": [
    "# Visulazing the data \n",
    "plt.plot(train_input,train_output)"
   ]
  },
  {
   "cell_type": "code",
   "execution_count": 14,
   "metadata": {},
   "outputs": [
    {
     "name": "stdout",
     "output_type": "stream",
     "text": [
      "INITAL PARAMETERS :  {'w': array([[1.76405235]])}\n"
     ]
    }
   ],
   "source": [
    "#initalizing only W\n",
    "# since y is directly proportional to x we do not require to initalize c \n",
    "\n",
    "def initalize_weights():\n",
    "    np.random.seed(0)\n",
    "    params = {}\n",
    "    params[\"w\"] = np.array((np.random.randn())).reshape(1,1)\n",
    "    return params \n",
    "\n",
    "params = initalize_weights()\n",
    "print(\"INITAL PARAMETERS : \",params)"
   ]
  },
  {
   "cell_type": "code",
   "execution_count": 16,
   "metadata": {},
   "outputs": [],
   "source": [
    "#forward pass : predicting the value of y with learnable parameter w \n",
    "def forward_pass(X,params):\n",
    "    Y_pred = X*params['w'] \n",
    "    return Y_pred "
   ]
  },
  {
   "cell_type": "code",
   "execution_count": 17,
   "metadata": {},
   "outputs": [],
   "source": [
    "\n",
    "# Function to find the loss of the predicted and the ground truth value\n",
    "# Here i am using MSE loss \n",
    "# Loss tells how good our model is perfroming\n",
    "def cost_function(Y_pred,Y):\n",
    "    cost = np.mean((Y_pred-Y)**2)\n",
    "    return cost "
   ]
  },
  {
   "cell_type": "code",
   "execution_count": 18,
   "metadata": {},
   "outputs": [],
   "source": [
    "\"\"\"Backpropagate : In which  the  adjustment is carried out to minimize the loss, which is a measure of how well the model's predictions match \n",
    "the actual target values. The ultimate goal of this optimization process is to make the model's predictions as close as possible to the \n",
    "true, desired results. \"\"\"\n",
    "def back_prop(X,Y,Y_pred):\n",
    "    dW = -2*(np.multiply(X,(Y-Y_pred)))\n",
    "    dW = np.mean(dW) \n",
    "    return dW \n",
    "\n"
   ]
  },
  {
   "cell_type": "code",
   "execution_count": 19,
   "metadata": {},
   "outputs": [],
   "source": [
    "def update_params(params,lr,dW):\n",
    "    params['w'] = params['w'] - (lr*dW)\n",
    "    return params "
   ]
  },
  {
   "cell_type": "code",
   "execution_count": 26,
   "metadata": {},
   "outputs": [
    {
     "name": "stdout",
     "output_type": "stream",
     "text": [
      " EPOCH[99999] LOSS: 5.915573441148635e-25  "
     ]
    }
   ],
   "source": [
    "# training \n",
    "train_input,train_output = get_train_data()\n",
    "lr = 0.001 \n",
    "params = initalize_weights()\n",
    "epochs = 100000 \n",
    "loss_list = []\n",
    "for epoch in range(epochs):\n",
    "    y_pred = forward_pass(train_input,params)\n",
    "    loss = cost_function(y_pred,train_output)\n",
    "    gradinet = back_prop(train_input,train_output,y_pred)\n",
    "    params = update_params(params,lr,gradinet)\n",
    "    loss_list.append(loss)\n",
    "    print(f\"\\r EPOCH[{epoch}] LOSS: {loss}\",end=\" \")"
   ]
  },
  {
   "cell_type": "code",
   "execution_count": 27,
   "metadata": {},
   "outputs": [
    {
     "data": {
      "text/plain": [
       "[<matplotlib.lines.Line2D at 0x7fb80c230280>]"
      ]
     },
     "execution_count": 27,
     "metadata": {},
     "output_type": "execute_result"
    },
    {
     "data": {
      "image/png": "[encoded data removed]",
      "text/plain": [
       "<Figure size 640x480 with 1 Axes>"
      ]
     },
     "metadata": {},
     "output_type": "display_data"
    }
   ],
   "source": [
    "# Visulaize loss \n",
    "\"\"\"Loss decreses..... hurray !!!!\"\"\"\n",
    "plt.plot(loss_list)\n"
   ]
  },
  {
   "cell_type": "code",
   "execution_count": 44,
   "metadata": {},
   "outputs": [
    {
     "name": "stdout",
     "output_type": "stream",
     "text": [
      "ACTUAL 896880 PREDICTED 896880.00000\n"
     ]
    }
   ],
   "source": [
    "\"\"\"Lets check the weights with random numbers\"\"\"\n",
    "\n",
    "test_num = np.random.randint(0,100000)\n",
    "W = params['w']\n",
    "predicted = (test_num * W)[0][0]\n",
    "print(\"ACTUAL {} PREDICTED {:.5f}\".format(test_num*10,predicted))\n"
   ]
  },
  {
   "cell_type": "code",
   "execution_count": 45,
   "metadata": {},
   "outputs": [],
   "source": [
    "# ADDITIONAL ATTACHED THE PYTORCH IMPLEMENTATION OF THE ABOVE LINEAR REGRESSION "
   ]
  },
  {
   "cell_type": "code",
   "execution_count": 46,
   "metadata": {},
   "outputs": [],
   "source": [
    "from torch.utils.data import Dataset , DataLoader \n",
    "from torch import nn,optim\n",
    "\n",
    "torch.random.manual_seed(1)\n",
    "class MultiplierDataset(Dataset):\n",
    "    def __init__(self) :\n",
    "        super().__init__()\n",
    "        self.x = torch.arange(0,10000,dtype=torch.float)\n",
    "        self.x = (self.x)/10000\n",
    "        self.y = self.x * 10 \n",
    "    def __getitem__(self, index) :\n",
    "        return self.x[index],self.y[index]\n",
    "\n",
    "    def __len__(self):\n",
    "        return len(self.x)\n",
    "\n",
    "   "
   ]
  },
  {
   "cell_type": "code",
   "execution_count": 47,
   "metadata": {},
   "outputs": [
    {
     "name": "stdout",
     "output_type": "stream",
     "text": [
      "EPOCH[0][0/625] LOSS : 22.270694732666016\n",
      "EPOCH[0][100/625] LOSS : 24.65580177307129\n",
      "EPOCH[0][200/625] LOSS : 18.091222763061523\n",
      "EPOCH[0][300/625] LOSS : 24.222902297973633\n",
      "EPOCH[0][400/625] LOSS : 18.653064727783203\n",
      "EPOCH[0][500/625] LOSS : 15.602093696594238\n",
      "EPOCH[0][600/625] LOSS : 17.692237854003906\n",
      "EPOCH[0]  LOSS : 9.09078598022461\n",
      "EPOCH[1][0/625] LOSS : 14.135516166687012\n",
      "EPOCH[1][100/625] LOSS : 15.61559772491455\n",
      "EPOCH[1][200/625] LOSS : 9.307182312011719\n",
      "EPOCH[1][300/625] LOSS : 7.967706203460693\n",
      "EPOCH[1][400/625] LOSS : 4.186809539794922\n",
      "EPOCH[1][500/625] LOSS : 5.2093353271484375\n",
      "EPOCH[1][600/625] LOSS : 5.1238837242126465\n",
      "EPOCH[1]  LOSS : 6.406209945678711\n",
      "EPOCH[2][0/625] LOSS : 6.176841735839844\n",
      "EPOCH[2][100/625] LOSS : 6.4993977546691895\n",
      "EPOCH[2][200/625] LOSS : 1.988037109375\n",
      "EPOCH[2][300/625] LOSS : 3.707643985748291\n",
      "EPOCH[2][400/625] LOSS : 1.8618160486221313\n",
      "EPOCH[2][500/625] LOSS : 2.1052167415618896\n",
      "EPOCH[2][600/625] LOSS : 2.0850753784179688\n",
      "EPOCH[2]  LOSS : 2.399736166000366\n",
      "EPOCH[3][0/625] LOSS : 2.7473971843719482\n",
      "EPOCH[3][100/625] LOSS : 1.6482683420181274\n",
      "EPOCH[3][200/625] LOSS : 2.861931800842285\n",
      "EPOCH[3][300/625] LOSS : 1.2541980743408203\n",
      "EPOCH[3][400/625] LOSS : 1.399409532546997\n",
      "EPOCH[3][500/625] LOSS : 1.196951150894165\n",
      "EPOCH[3][600/625] LOSS : 1.0444751977920532\n",
      "EPOCH[3]  LOSS : 0.7391842603683472\n",
      "EPOCH[4][0/625] LOSS : 0.9912523031234741\n",
      "EPOCH[4][100/625] LOSS : 0.9037056565284729\n",
      "EPOCH[4][200/625] LOSS : 0.8537588119506836\n",
      "EPOCH[4][300/625] LOSS : 1.0199395418167114\n",
      "EPOCH[4][400/625] LOSS : 0.46143096685409546\n",
      "EPOCH[4][500/625] LOSS : 0.4456890821456909\n",
      "EPOCH[4][600/625] LOSS : 0.5878978967666626\n",
      "EPOCH[4]  LOSS : 0.6203417181968689\n",
      "EPOCH[5][0/625] LOSS : 0.4460238218307495\n",
      "EPOCH[5][100/625] LOSS : 0.3761644959449768\n",
      "EPOCH[5][200/625] LOSS : 0.36458101868629456\n",
      "EPOCH[5][300/625] LOSS : 0.34625542163848877\n",
      "EPOCH[5][400/625] LOSS : 0.2689276933670044\n",
      "EPOCH[5][500/625] LOSS : 0.231731578707695\n",
      "EPOCH[5][600/625] LOSS : 0.15405619144439697\n",
      "EPOCH[5]  LOSS : 0.24213507771492004\n",
      "EPOCH[6][0/625] LOSS : 0.2139635533094406\n",
      "EPOCH[6][100/625] LOSS : 0.19051679968833923\n",
      "EPOCH[6][200/625] LOSS : 0.14912980794906616\n",
      "EPOCH[6][300/625] LOSS : 0.09225039929151535\n",
      "EPOCH[6][400/625] LOSS : 0.1273258626461029\n",
      "EPOCH[6][500/625] LOSS : 0.11541128903627396\n",
      "EPOCH[6][600/625] LOSS : 0.08805734664201736\n",
      "EPOCH[6]  LOSS : 0.08630678057670593\n",
      "EPOCH[7][0/625] LOSS : 0.09239113330841064\n",
      "EPOCH[7][100/625] LOSS : 0.07872851938009262\n",
      "EPOCH[7][200/625] LOSS : 0.0461626872420311\n",
      "EPOCH[7][300/625] LOSS : 0.05766391009092331\n",
      "EPOCH[7][400/625] LOSS : 0.06097661703824997\n",
      "EPOCH[7][500/625] LOSS : 0.03946402296423912\n",
      "EPOCH[7][600/625] LOSS : 0.05021131783723831\n",
      "EPOCH[7]  LOSS : 0.040937915444374084\n",
      "EPOCH[8][0/625] LOSS : 0.037028513848781586\n",
      "EPOCH[8][100/625] LOSS : 0.03382986783981323\n",
      "EPOCH[8][200/625] LOSS : 0.025789014995098114\n",
      "EPOCH[8][300/625] LOSS : 0.020841000601649284\n",
      "EPOCH[8][400/625] LOSS : 0.01712249033153057\n",
      "EPOCH[8][500/625] LOSS : 0.020401909947395325\n",
      "EPOCH[8][600/625] LOSS : 0.015154847875237465\n",
      "EPOCH[8]  LOSS : 0.01622522808611393\n",
      "EPOCH[9][0/625] LOSS : 0.014237461611628532\n",
      "EPOCH[9][100/625] LOSS : 0.011209957301616669\n",
      "EPOCH[9][200/625] LOSS : 0.01053876057267189\n",
      "EPOCH[9][300/625] LOSS : 0.01400572620332241\n",
      "EPOCH[9][400/625] LOSS : 0.01045740582048893\n",
      "EPOCH[9][500/625] LOSS : 0.0064752488397061825\n",
      "EPOCH[9][600/625] LOSS : 0.00600853655487299\n",
      "EPOCH[9]  LOSS : 0.009391667321324348\n",
      "EPOCH[10][0/625] LOSS : 0.008972727693617344\n",
      "EPOCH[10][100/625] LOSS : 0.00659116031602025\n",
      "EPOCH[10][200/625] LOSS : 0.006661348044872284\n",
      "EPOCH[10][300/625] LOSS : 0.004224502015858889\n",
      "EPOCH[10][400/625] LOSS : 0.0047562927938997746\n",
      "EPOCH[10][500/625] LOSS : 0.0028631770983338356\n",
      "EPOCH[10][600/625] LOSS : 0.00232105515897274\n",
      "EPOCH[10]  LOSS : 0.0040800916031003\n",
      "EPOCH[11][0/625] LOSS : 0.0037842290475964546\n",
      "EPOCH[11][100/625] LOSS : 0.0027609444223344326\n",
      "EPOCH[11][200/625] LOSS : 0.0022277114912867546\n",
      "EPOCH[11][300/625] LOSS : 0.0014859159709885716\n",
      "EPOCH[11][400/625] LOSS : 0.0015544176567345858\n",
      "EPOCH[11][500/625] LOSS : 0.0011084616417065263\n",
      "EPOCH[11][600/625] LOSS : 0.0008614482940174639\n",
      "EPOCH[11]  LOSS : 0.001205414067953825\n",
      "EPOCH[12][0/625] LOSS : 0.001763047301210463\n",
      "EPOCH[12][100/625] LOSS : 0.0007095916662365198\n",
      "EPOCH[12][200/625] LOSS : 0.00043897851719520986\n",
      "EPOCH[12][300/625] LOSS : 0.0006827487959526479\n",
      "EPOCH[12][400/625] LOSS : 0.0008063071290962398\n",
      "EPOCH[12][500/625] LOSS : 0.0006290702149271965\n",
      "EPOCH[12][600/625] LOSS : 0.000516649684868753\n",
      "EPOCH[12]  LOSS : 0.0003470311057753861\n",
      "EPOCH[13][0/625] LOSS : 0.0007755731930956244\n",
      "EPOCH[13][100/625] LOSS : 0.00046428796485997736\n",
      "EPOCH[13][200/625] LOSS : 0.0004279993299860507\n",
      "EPOCH[13][300/625] LOSS : 0.000412655936088413\n",
      "EPOCH[13][400/625] LOSS : 0.0003454783873166889\n",
      "EPOCH[13][500/625] LOSS : 0.0003447742201387882\n",
      "EPOCH[13][600/625] LOSS : 0.0002042457927018404\n",
      "EPOCH[13]  LOSS : 0.00024251099966932088\n",
      "EPOCH[14][0/625] LOSS : 0.00023714527196716517\n",
      "EPOCH[14][100/625] LOSS : 0.0001847101520979777\n",
      "EPOCH[14][200/625] LOSS : 0.0002352425071876496\n",
      "EPOCH[14][300/625] LOSS : 0.00013446791854221374\n",
      "EPOCH[14][400/625] LOSS : 0.00015716128109488636\n",
      "EPOCH[14][500/625] LOSS : 0.0001323964388575405\n",
      "EPOCH[14][600/625] LOSS : 0.0001284052850678563\n",
      "EPOCH[14]  LOSS : 0.00015575495490338653\n",
      "EPOCH[15][0/625] LOSS : 0.00014928716700524092\n",
      "EPOCH[15][100/625] LOSS : 9.246003173757344e-05\n",
      "EPOCH[15][200/625] LOSS : 4.751236338051967e-05\n",
      "EPOCH[15][300/625] LOSS : 6.917495920788497e-05\n",
      "EPOCH[15][400/625] LOSS : 4.666429595090449e-05\n",
      "EPOCH[15][500/625] LOSS : 6.45037871436216e-05\n",
      "EPOCH[15][600/625] LOSS : 5.336952017387375e-05\n",
      "EPOCH[15]  LOSS : 4.385540887597017e-05\n",
      "EPOCH[16][0/625] LOSS : 4.941173392580822e-05\n",
      "EPOCH[16][100/625] LOSS : 4.363630432635546e-05\n",
      "EPOCH[16][200/625] LOSS : 2.577920167823322e-05\n",
      "EPOCH[16][300/625] LOSS : 4.543722388916649e-05\n",
      "EPOCH[16][400/625] LOSS : 2.509953446860891e-05\n",
      "EPOCH[16][500/625] LOSS : 2.6184879970969632e-05\n",
      "EPOCH[16][600/625] LOSS : 2.4714954633964226e-05\n",
      "EPOCH[16]  LOSS : 2.1352077965275384e-05\n",
      "EPOCH[17][0/625] LOSS : 2.474867505952716e-05\n",
      "EPOCH[17][100/625] LOSS : 2.6331623303121887e-05\n",
      "EPOCH[17][200/625] LOSS : 1.545740815345198e-05\n",
      "EPOCH[17][300/625] LOSS : 1.911426443257369e-05\n",
      "EPOCH[17][400/625] LOSS : 1.1332854228385258e-05\n",
      "EPOCH[17][500/625] LOSS : 1.0118486898136325e-05\n",
      "EPOCH[17][600/625] LOSS : 1.0565948286966886e-05\n",
      "EPOCH[17]  LOSS : 7.023882972134743e-06\n",
      "EPOCH[18][0/625] LOSS : 8.66595746629173e-06\n",
      "EPOCH[18][100/625] LOSS : 7.953497515700292e-06\n",
      "EPOCH[18][200/625] LOSS : 6.560242582054343e-06\n",
      "EPOCH[18][300/625] LOSS : 6.265454885578947e-06\n",
      "EPOCH[18][400/625] LOSS : 6.285326890065335e-06\n",
      "EPOCH[18][500/625] LOSS : 5.645484634442255e-06\n",
      "EPOCH[18][600/625] LOSS : 4.6462032514682505e-06\n",
      "EPOCH[18]  LOSS : 2.643887455633376e-06\n",
      "EPOCH[19][0/625] LOSS : 3.4894203508883948e-06\n",
      "EPOCH[19][100/625] LOSS : 3.5280477277410682e-06\n",
      "EPOCH[19][200/625] LOSS : 5.019091531721642e-06\n",
      "EPOCH[19][300/625] LOSS : 3.1802876492292853e-06\n",
      "EPOCH[19][400/625] LOSS : 3.313889010314597e-06\n",
      "EPOCH[19][500/625] LOSS : 2.1030155039625242e-06\n",
      "EPOCH[19][600/625] LOSS : 6.830075562902493e-07\n",
      "EPOCH[19]  LOSS : 9.503316391601402e-07\n"
     ]
    }
   ],
   "source": [
    "datatset = MultiplierDataset()\n",
    "loader = DataLoader( dataset=datatset,\n",
    "                    batch_size=16,\n",
    "                    shuffle=True,\n",
    "                    num_workers=2\n",
    "                    )\n",
    "model = nn.Linear(1,1,bias=False)\n",
    "optimizer = optim.SGD(model.parameters(),lr=0.001)\n",
    "loss_func = nn.MSELoss()\n",
    "epochs = 20\n",
    "for epoch in range(epochs):\n",
    "    step = 0\n",
    "    epoch_loss = 0.0\n",
    "    for x,y in loader:\n",
    "        optimizer.zero_grad()\n",
    "        x = x.reshape(-1,1)\n",
    "        y = y.reshape(-1,1)\n",
    "        y_pred = model(x) \n",
    "        loss = loss_func(y_pred,y)\n",
    "        epoch_loss = loss.item()\n",
    "        loss.backward()\n",
    "        optimizer.step()\n",
    "        if not step%100:\n",
    "            print(f\"EPOCH[{epoch}][{step}/{len(loader)}] LOSS : {loss}\")\n",
    "        step+=1\n",
    "    print(f\"EPOCH[{epoch}]  LOSS : {loss}\")\n"
   ]
  },
  {
   "cell_type": "code",
   "execution_count": 48,
   "metadata": {},
   "outputs": [
    {
     "name": "stdout",
     "output_type": "stream",
     "text": [
      "TEST NUM :  tensor([3., 3., 4.])\n",
      "PREDTICTED :  tensor([[29.9932],\n",
      "        [29.9932],\n",
      "        [39.9909]], grad_fn=<MmBackward0>) ACTUAL ANSWER :  tensor([30., 30., 40.])\n"
     ]
    }
   ],
   "source": [
    "test_num = torch.randint(3, 5, (3,),dtype=torch.float)\n",
    "print(\"TEST NUM : \" ,test_num)\n",
    "pred = model(test_num.view(-1,1))\n",
    "print(\"PREDTICTED : \",pred,\"ACTUAL ANSWER : \",test_num*10)"
   ]
  },
  {
   "cell_type": "code",
   "execution_count": null,
   "metadata": {},
   "outputs": [],
   "source": []
  }
 ],
 "metadata": {
  "kernelspec": {
   "display_name": ".venv",
   "language": "python",
   "name": "python3"
  },
  "language_info": {
   "codemirror_mode": {
    "name": "ipython",
    "version": 3
   },
   "file_extension": ".py",
   "mimetype": "text/x-python",
   "name": "python",
   "nbconvert_exporter": "python",
   "pygments_lexer": "ipython3",
   "version": "3.10.12"
  },
  "orig_nbformat": 4
 },
 "nbformat": 4,
 "nbformat_minor": 2
}
